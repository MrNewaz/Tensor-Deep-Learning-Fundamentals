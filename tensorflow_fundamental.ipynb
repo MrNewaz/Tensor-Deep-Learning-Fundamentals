{
  "nbformat": 4,
  "nbformat_minor": 0,
  "metadata": {
    "colab": {
      "name": "Copy of tensorflow_fundamental.ipynb",
      "provenance": [],
      "collapsed_sections": [],
      "authorship_tag": "ABX9TyM8AMXFcq3VfP469BeQHkeZ",
      "include_colab_link": true
    },
    "kernelspec": {
      "name": "python3",
      "display_name": "Python 3"
    },
    "language_info": {
      "name": "python"
    }
  },
  "cells": [
    {
      "cell_type": "markdown",
      "metadata": {
        "id": "view-in-github",
        "colab_type": "text"
      },
      "source": [
        "<a href=\"https://colab.research.google.com/github/MrNewaz/Tensor-Deep-Learning-Fundamentals/blob/main/tensorflow_fundamental.ipynb\" target=\"_parent\"><img src=\"https://colab.research.google.com/assets/colab-badge.svg\" alt=\"Open In Colab\"/></a>"
      ]
    },
    {
      "cell_type": "code",
      "metadata": {
        "colab": {
          "base_uri": "https://localhost:8080/"
        },
        "id": "YoK1yxdCMBp4",
        "outputId": "c428c4d0-394c-4246-c33c-2d161ffe154a"
      },
      "source": [
        "import tensorflow as tf\n",
        "\n",
        "print(tf.__version__)"
      ],
      "execution_count": 27,
      "outputs": [
        {
          "output_type": "stream",
          "name": "stdout",
          "text": [
            "2.7.0\n"
          ]
        }
      ]
    },
    {
      "cell_type": "markdown",
      "metadata": {
        "id": "q18w0ZG9QtxT"
      },
      "source": [
        "# Scalar"
      ]
    },
    {
      "cell_type": "code",
      "metadata": {
        "colab": {
          "base_uri": "https://localhost:8080/"
        },
        "id": "jmnw6cRBN_Y6",
        "outputId": "f8072221-f4e3-49f3-c697-b8ebcb073513"
      },
      "source": [
        "scalar = tf.constant(7)\n",
        "scalar"
      ],
      "execution_count": 28,
      "outputs": [
        {
          "output_type": "execute_result",
          "data": {
            "text/plain": [
              "<tf.Tensor: shape=(), dtype=int32, numpy=7>"
            ]
          },
          "metadata": {},
          "execution_count": 28
        }
      ]
    },
    {
      "cell_type": "code",
      "metadata": {
        "colab": {
          "base_uri": "https://localhost:8080/"
        },
        "id": "sKZms6fVQIxS",
        "outputId": "254fe273-6bd9-4535-ee26-ffdf5892eff8"
      },
      "source": [
        "scalar.ndim"
      ],
      "execution_count": 29,
      "outputs": [
        {
          "output_type": "execute_result",
          "data": {
            "text/plain": [
              "0"
            ]
          },
          "metadata": {},
          "execution_count": 29
        }
      ]
    },
    {
      "cell_type": "markdown",
      "metadata": {
        "id": "wjexrzi4RCLs"
      },
      "source": [
        "# Vector"
      ]
    },
    {
      "cell_type": "code",
      "metadata": {
        "colab": {
          "base_uri": "https://localhost:8080/"
        },
        "id": "at1m7W9pQMAU",
        "outputId": "80ca413e-1d43-4883-d4ea-9c4df4cf8a50"
      },
      "source": [
        "vector = tf.constant([10,10])\n",
        "vector"
      ],
      "execution_count": 30,
      "outputs": [
        {
          "output_type": "execute_result",
          "data": {
            "text/plain": [
              "<tf.Tensor: shape=(2,), dtype=int32, numpy=array([10, 10], dtype=int32)>"
            ]
          },
          "metadata": {},
          "execution_count": 30
        }
      ]
    },
    {
      "cell_type": "code",
      "metadata": {
        "colab": {
          "base_uri": "https://localhost:8080/"
        },
        "id": "__BOBfoAQbj9",
        "outputId": "dfd067c7-a8a4-4dc7-ef1c-21f1e9e4c47a"
      },
      "source": [
        "vector.ndim"
      ],
      "execution_count": 31,
      "outputs": [
        {
          "output_type": "execute_result",
          "data": {
            "text/plain": [
              "1"
            ]
          },
          "metadata": {},
          "execution_count": 31
        }
      ]
    },
    {
      "cell_type": "markdown",
      "metadata": {
        "id": "kMLybpbFRIql"
      },
      "source": [
        "#Matrix"
      ]
    },
    {
      "cell_type": "code",
      "metadata": {
        "colab": {
          "base_uri": "https://localhost:8080/"
        },
        "id": "O4848uMCQeD2",
        "outputId": "8cd597b9-772a-43ee-cbd7-8c17938f9a37"
      },
      "source": [
        "matrix = tf.constant([[10,7],[7,10]])\n",
        "matrix"
      ],
      "execution_count": 32,
      "outputs": [
        {
          "output_type": "execute_result",
          "data": {
            "text/plain": [
              "<tf.Tensor: shape=(2, 2), dtype=int32, numpy=\n",
              "array([[10,  7],\n",
              "       [ 7, 10]], dtype=int32)>"
            ]
          },
          "metadata": {},
          "execution_count": 32
        }
      ]
    },
    {
      "cell_type": "code",
      "metadata": {
        "colab": {
          "base_uri": "https://localhost:8080/"
        },
        "id": "gts5QUEhRaR1",
        "outputId": "22d7804d-1c05-4c92-e4fc-f276b3c13a40"
      },
      "source": [
        "matrix.ndim"
      ],
      "execution_count": 33,
      "outputs": [
        {
          "output_type": "execute_result",
          "data": {
            "text/plain": [
              "2"
            ]
          },
          "metadata": {},
          "execution_count": 33
        }
      ]
    },
    {
      "cell_type": "markdown",
      "metadata": {
        "id": "geX9l823Rdhc"
      },
      "source": [
        "# Another matrix"
      ]
    },
    {
      "cell_type": "code",
      "metadata": {
        "colab": {
          "base_uri": "https://localhost:8080/"
        },
        "id": "FrElEtcuSR-3",
        "outputId": "17407c7c-a6ff-4f49-a51a-3f61421bfdab"
      },
      "source": [
        "another_matrix = tf.constant([[10.,7.],\n",
        "                              [7.,10.],\n",
        "                              [3.,2.]\n",
        "                              ],\n",
        "                              dtype=tf.float16)\n",
        "another_matrix"
      ],
      "execution_count": 34,
      "outputs": [
        {
          "output_type": "execute_result",
          "data": {
            "text/plain": [
              "<tf.Tensor: shape=(3, 2), dtype=float16, numpy=\n",
              "array([[10.,  7.],\n",
              "       [ 7., 10.],\n",
              "       [ 3.,  2.]], dtype=float16)>"
            ]
          },
          "metadata": {},
          "execution_count": 34
        }
      ]
    },
    {
      "cell_type": "code",
      "metadata": {
        "colab": {
          "base_uri": "https://localhost:8080/"
        },
        "id": "qFWkQqGNS3Cu",
        "outputId": "537029a6-e37e-48ec-fa8a-820c6ac1cd5e"
      },
      "source": [
        "another_matrix.ndim"
      ],
      "execution_count": 35,
      "outputs": [
        {
          "output_type": "execute_result",
          "data": {
            "text/plain": [
              "2"
            ]
          },
          "metadata": {},
          "execution_count": 35
        }
      ]
    },
    {
      "cell_type": "markdown",
      "metadata": {
        "id": "ojJ2x3m5fIHP"
      },
      "source": [
        "# Tf Variable"
      ]
    },
    {
      "cell_type": "code",
      "metadata": {
        "colab": {
          "base_uri": "https://localhost:8080/"
        },
        "id": "jWoUoqLBfNi8",
        "outputId": "af715019-751a-4c3d-cb6e-99cd31300c8d"
      },
      "source": [
        "changeable_tensor = tf.Variable([10,7])\n",
        "\n",
        "changeable_tensor"
      ],
      "execution_count": 36,
      "outputs": [
        {
          "output_type": "execute_result",
          "data": {
            "text/plain": [
              "<tf.Variable 'Variable:0' shape=(2,) dtype=int32, numpy=array([10,  7], dtype=int32)>"
            ]
          },
          "metadata": {},
          "execution_count": 36
        }
      ]
    },
    {
      "cell_type": "code",
      "metadata": {
        "colab": {
          "base_uri": "https://localhost:8080/"
        },
        "id": "pvCldyjkhHFo",
        "outputId": "e0be81de-739c-40aa-9c2d-f90185c7b2f7"
      },
      "source": [
        "changeable_tensor[0].assign(5)\n",
        "changeable_tensor"
      ],
      "execution_count": 37,
      "outputs": [
        {
          "output_type": "execute_result",
          "data": {
            "text/plain": [
              "<tf.Variable 'Variable:0' shape=(2,) dtype=int32, numpy=array([5, 7], dtype=int32)>"
            ]
          },
          "metadata": {},
          "execution_count": 37
        }
      ]
    },
    {
      "cell_type": "markdown",
      "metadata": {
        "id": "6NTQecM0I7pR"
      },
      "source": [
        "# Random"
      ]
    },
    {
      "cell_type": "code",
      "metadata": {
        "id": "X2fV6lCnI_WO",
        "colab": {
          "base_uri": "https://localhost:8080/"
        },
        "outputId": "b9a3a0ab-ca29-47a4-b1ba-b96a9614527e"
      },
      "source": [
        "random_1 = tf.random.Generator.from_seed(42)\n",
        "random_1 = random_1.normal(shape=(3,2))\n",
        "\n",
        "random_2 = tf.random.Generator.from_seed(42)\n",
        "random_2 = random_2.normal(shape=(3,2))\n",
        "random_1,random_2 ,random_1 ==random_2"
      ],
      "execution_count": 38,
      "outputs": [
        {
          "output_type": "execute_result",
          "data": {
            "text/plain": [
              "(<tf.Tensor: shape=(3, 2), dtype=float32, numpy=\n",
              " array([[-0.7565803 , -0.06854702],\n",
              "        [ 0.07595026, -1.2573844 ],\n",
              "        [-0.23193763, -1.8107855 ]], dtype=float32)>,\n",
              " <tf.Tensor: shape=(3, 2), dtype=float32, numpy=\n",
              " array([[-0.7565803 , -0.06854702],\n",
              "        [ 0.07595026, -1.2573844 ],\n",
              "        [-0.23193763, -1.8107855 ]], dtype=float32)>,\n",
              " <tf.Tensor: shape=(3, 2), dtype=bool, numpy=\n",
              " array([[ True,  True],\n",
              "        [ True,  True],\n",
              "        [ True,  True]])>)"
            ]
          },
          "metadata": {},
          "execution_count": 38
        }
      ]
    },
    {
      "cell_type": "markdown",
      "metadata": {
        "id": "nlCfwjtzJht9"
      },
      "source": [
        "# Shuffle a tensor\n",
        "\n"
      ]
    },
    {
      "cell_type": "code",
      "metadata": {
        "id": "PbyYcdJFLKqM",
        "colab": {
          "base_uri": "https://localhost:8080/"
        },
        "outputId": "5e76785e-5b22-4c33-f1eb-0293dcbe842f"
      },
      "source": [
        "not_shuffled = tf.constant([[10,7],\n",
        "                           [3,4],\n",
        "                           [2,5]])\n",
        "\n",
        "tf.random.shuffle(not_shuffled)\n",
        "\n"
      ],
      "execution_count": 39,
      "outputs": [
        {
          "output_type": "execute_result",
          "data": {
            "text/plain": [
              "<tf.Tensor: shape=(3, 2), dtype=int32, numpy=\n",
              "array([[ 3,  4],\n",
              "       [ 2,  5],\n",
              "       [10,  7]], dtype=int32)>"
            ]
          },
          "metadata": {},
          "execution_count": 39
        }
      ]
    },
    {
      "cell_type": "code",
      "metadata": {
        "colab": {
          "base_uri": "https://localhost:8080/"
        },
        "id": "itefr_-aPMo5",
        "outputId": "ab0744f7-c648-463a-fcd9-84bfaa8664d8"
      },
      "source": [
        "tf.random.set_seed(42)\n",
        "tf.random.shuffle(not_shuffled, seed=42)"
      ],
      "execution_count": 40,
      "outputs": [
        {
          "output_type": "execute_result",
          "data": {
            "text/plain": [
              "<tf.Tensor: shape=(3, 2), dtype=int32, numpy=\n",
              "array([[10,  7],\n",
              "       [ 3,  4],\n",
              "       [ 2,  5]], dtype=int32)>"
            ]
          },
          "metadata": {},
          "execution_count": 40
        }
      ]
    },
    {
      "cell_type": "code",
      "metadata": {
        "colab": {
          "base_uri": "https://localhost:8080/"
        },
        "id": "38egU-P9OiJg",
        "outputId": "3746e71c-0d75-4140-ec54-00861cbe4c3b"
      },
      "source": [
        "not_shuffled"
      ],
      "execution_count": 41,
      "outputs": [
        {
          "output_type": "execute_result",
          "data": {
            "text/plain": [
              "<tf.Tensor: shape=(3, 2), dtype=int32, numpy=\n",
              "array([[10,  7],\n",
              "       [ 3,  4],\n",
              "       [ 2,  5]], dtype=int32)>"
            ]
          },
          "metadata": {},
          "execution_count": 41
        }
      ]
    },
    {
      "cell_type": "code",
      "metadata": {
        "colab": {
          "base_uri": "https://localhost:8080/"
        },
        "id": "NCB9a5s2S68W",
        "outputId": "15da51ea-8000-456d-ccd8-ee5b7a51da15"
      },
      "source": [
        "tf.random.set_seed(42) # Global level random seed\n",
        "tf.random.shuffle(not_shuffled, seed=42) # Operation level random seed"
      ],
      "execution_count": 42,
      "outputs": [
        {
          "output_type": "execute_result",
          "data": {
            "text/plain": [
              "<tf.Tensor: shape=(3, 2), dtype=int32, numpy=\n",
              "array([[10,  7],\n",
              "       [ 3,  4],\n",
              "       [ 2,  5]], dtype=int32)>"
            ]
          },
          "metadata": {},
          "execution_count": 42
        }
      ]
    },
    {
      "cell_type": "markdown",
      "metadata": {
        "id": "kUwfPF8iTrdB"
      },
      "source": [
        "# Other ways to make tensors"
      ]
    },
    {
      "cell_type": "markdown",
      "metadata": {
        "id": "c6TcZ2_aT5-G"
      },
      "source": [
        "### All Ones"
      ]
    },
    {
      "cell_type": "code",
      "metadata": {
        "colab": {
          "base_uri": "https://localhost:8080/"
        },
        "id": "fmCV2ooaTxKQ",
        "outputId": "f87885e3-4327-4ac1-c152-529f56b42984"
      },
      "source": [
        "tf.ones([10,7])"
      ],
      "execution_count": 43,
      "outputs": [
        {
          "output_type": "execute_result",
          "data": {
            "text/plain": [
              "<tf.Tensor: shape=(10, 7), dtype=float32, numpy=\n",
              "array([[1., 1., 1., 1., 1., 1., 1.],\n",
              "       [1., 1., 1., 1., 1., 1., 1.],\n",
              "       [1., 1., 1., 1., 1., 1., 1.],\n",
              "       [1., 1., 1., 1., 1., 1., 1.],\n",
              "       [1., 1., 1., 1., 1., 1., 1.],\n",
              "       [1., 1., 1., 1., 1., 1., 1.],\n",
              "       [1., 1., 1., 1., 1., 1., 1.],\n",
              "       [1., 1., 1., 1., 1., 1., 1.],\n",
              "       [1., 1., 1., 1., 1., 1., 1.],\n",
              "       [1., 1., 1., 1., 1., 1., 1.]], dtype=float32)>"
            ]
          },
          "metadata": {},
          "execution_count": 43
        }
      ]
    },
    {
      "cell_type": "markdown",
      "metadata": {
        "id": "im110ZQhT1U3"
      },
      "source": [
        "### ALL zeroes"
      ]
    },
    {
      "cell_type": "code",
      "metadata": {
        "colab": {
          "base_uri": "https://localhost:8080/"
        },
        "id": "RD5rxMIOT_9x",
        "outputId": "28daabaf-4f9c-4e38-d4f0-fa868c38beba"
      },
      "source": [
        "tf.zeros(shape=(3,4))"
      ],
      "execution_count": 44,
      "outputs": [
        {
          "output_type": "execute_result",
          "data": {
            "text/plain": [
              "<tf.Tensor: shape=(3, 4), dtype=float32, numpy=\n",
              "array([[0., 0., 0., 0.],\n",
              "       [0., 0., 0., 0.],\n",
              "       [0., 0., 0., 0.]], dtype=float32)>"
            ]
          },
          "metadata": {},
          "execution_count": 44
        }
      ]
    },
    {
      "cell_type": "markdown",
      "metadata": {
        "id": "K-LCaI3dUD6y"
      },
      "source": [
        "# Numpy Arrays"
      ]
    },
    {
      "cell_type": "code",
      "metadata": {
        "colab": {
          "base_uri": "https://localhost:8080/"
        },
        "id": "B9aLe2dHUlVZ",
        "outputId": "793217e8-132f-4f4e-fdbd-82f1e6028a66"
      },
      "source": [
        "import numpy as np\n",
        "\n",
        "numpy_A = np.arange(1,25,dtype=np.int32) # create a numpy array between 1 to 25\n",
        "\n",
        "numpy_A"
      ],
      "execution_count": 45,
      "outputs": [
        {
          "output_type": "execute_result",
          "data": {
            "text/plain": [
              "array([ 1,  2,  3,  4,  5,  6,  7,  8,  9, 10, 11, 12, 13, 14, 15, 16, 17,\n",
              "       18, 19, 20, 21, 22, 23, 24], dtype=int32)"
            ]
          },
          "metadata": {},
          "execution_count": 45
        }
      ]
    },
    {
      "cell_type": "code",
      "metadata": {
        "colab": {
          "base_uri": "https://localhost:8080/"
        },
        "id": "wolvdlujVJ23",
        "outputId": "b4e5f363-3090-416b-9b9a-a13d853f9373"
      },
      "source": [
        "A = tf.constant(numpy_A, shape =(2,3,4))\n",
        "A"
      ],
      "execution_count": 46,
      "outputs": [
        {
          "output_type": "execute_result",
          "data": {
            "text/plain": [
              "<tf.Tensor: shape=(2, 3, 4), dtype=int32, numpy=\n",
              "array([[[ 1,  2,  3,  4],\n",
              "        [ 5,  6,  7,  8],\n",
              "        [ 9, 10, 11, 12]],\n",
              "\n",
              "       [[13, 14, 15, 16],\n",
              "        [17, 18, 19, 20],\n",
              "        [21, 22, 23, 24]]], dtype=int32)>"
            ]
          },
          "metadata": {},
          "execution_count": 46
        }
      ]
    },
    {
      "cell_type": "markdown",
      "metadata": {
        "id": "V1KmMRq7VVOf"
      },
      "source": [
        "# Getting informations from Tensors"
      ]
    },
    {
      "cell_type": "code",
      "metadata": {
        "colab": {
          "base_uri": "https://localhost:8080/"
        },
        "id": "J4qaTX-iau0P",
        "outputId": "41bfae7f-791a-4a42-e49a-091dcabe1587"
      },
      "source": [
        "# Rank 4 tensor\n",
        "\n",
        "rank_4_tensor = tf.zeros(shape=[2,3,4,5])\n",
        "\n",
        "rank_4_tensor"
      ],
      "execution_count": 48,
      "outputs": [
        {
          "output_type": "execute_result",
          "data": {
            "text/plain": [
              "<tf.Tensor: shape=(2, 3, 4, 5), dtype=float32, numpy=\n",
              "array([[[[0., 0., 0., 0., 0.],\n",
              "         [0., 0., 0., 0., 0.],\n",
              "         [0., 0., 0., 0., 0.],\n",
              "         [0., 0., 0., 0., 0.]],\n",
              "\n",
              "        [[0., 0., 0., 0., 0.],\n",
              "         [0., 0., 0., 0., 0.],\n",
              "         [0., 0., 0., 0., 0.],\n",
              "         [0., 0., 0., 0., 0.]],\n",
              "\n",
              "        [[0., 0., 0., 0., 0.],\n",
              "         [0., 0., 0., 0., 0.],\n",
              "         [0., 0., 0., 0., 0.],\n",
              "         [0., 0., 0., 0., 0.]]],\n",
              "\n",
              "\n",
              "       [[[0., 0., 0., 0., 0.],\n",
              "         [0., 0., 0., 0., 0.],\n",
              "         [0., 0., 0., 0., 0.],\n",
              "         [0., 0., 0., 0., 0.]],\n",
              "\n",
              "        [[0., 0., 0., 0., 0.],\n",
              "         [0., 0., 0., 0., 0.],\n",
              "         [0., 0., 0., 0., 0.],\n",
              "         [0., 0., 0., 0., 0.]],\n",
              "\n",
              "        [[0., 0., 0., 0., 0.],\n",
              "         [0., 0., 0., 0., 0.],\n",
              "         [0., 0., 0., 0., 0.],\n",
              "         [0., 0., 0., 0., 0.]]]], dtype=float32)>"
            ]
          },
          "metadata": {},
          "execution_count": 48
        }
      ]
    },
    {
      "cell_type": "code",
      "metadata": {
        "colab": {
          "base_uri": "https://localhost:8080/"
        },
        "id": "ckRO2r0qbeBo",
        "outputId": "75213d8f-fb4d-4eff-d7fa-d677b0e3fdb3"
      },
      "source": [
        "rank_4_tensor[0]"
      ],
      "execution_count": 49,
      "outputs": [
        {
          "output_type": "execute_result",
          "data": {
            "text/plain": [
              "<tf.Tensor: shape=(3, 4, 5), dtype=float32, numpy=\n",
              "array([[[0., 0., 0., 0., 0.],\n",
              "        [0., 0., 0., 0., 0.],\n",
              "        [0., 0., 0., 0., 0.],\n",
              "        [0., 0., 0., 0., 0.]],\n",
              "\n",
              "       [[0., 0., 0., 0., 0.],\n",
              "        [0., 0., 0., 0., 0.],\n",
              "        [0., 0., 0., 0., 0.],\n",
              "        [0., 0., 0., 0., 0.]],\n",
              "\n",
              "       [[0., 0., 0., 0., 0.],\n",
              "        [0., 0., 0., 0., 0.],\n",
              "        [0., 0., 0., 0., 0.],\n",
              "        [0., 0., 0., 0., 0.]]], dtype=float32)>"
            ]
          },
          "metadata": {},
          "execution_count": 49
        }
      ]
    },
    {
      "cell_type": "code",
      "metadata": {
        "colab": {
          "base_uri": "https://localhost:8080/"
        },
        "id": "Jza3SUAgb6b8",
        "outputId": "222ad5ff-da8f-4c46-c2f6-055742a61450"
      },
      "source": [
        "rank_4_tensor.shape,rank_4_tensor.ndim,tf.size(rank_4_tensor)"
      ],
      "execution_count": 50,
      "outputs": [
        {
          "output_type": "execute_result",
          "data": {
            "text/plain": [
              "(TensorShape([2, 3, 4, 5]), 4, <tf.Tensor: shape=(), dtype=int32, numpy=120>)"
            ]
          },
          "metadata": {},
          "execution_count": 50
        }
      ]
    },
    {
      "cell_type": "markdown",
      "metadata": {
        "id": "1ZXTO7QacJ7a"
      },
      "source": [
        "#Indexing Tensors"
      ]
    },
    {
      "cell_type": "code",
      "metadata": {
        "colab": {
          "base_uri": "https://localhost:8080/"
        },
        "id": "jtMGiUwZeDV1",
        "outputId": "c41bca60-b4c1-40c4-c560-3623bdd193a4"
      },
      "source": [
        "# first 2 elements of each dimentions\n",
        "\n",
        "rank_4_tensor[:2,:2,:2,:2]"
      ],
      "execution_count": 51,
      "outputs": [
        {
          "output_type": "execute_result",
          "data": {
            "text/plain": [
              "<tf.Tensor: shape=(2, 2, 2, 2), dtype=float32, numpy=\n",
              "array([[[[0., 0.],\n",
              "         [0., 0.]],\n",
              "\n",
              "        [[0., 0.],\n",
              "         [0., 0.]]],\n",
              "\n",
              "\n",
              "       [[[0., 0.],\n",
              "         [0., 0.]],\n",
              "\n",
              "        [[0., 0.],\n",
              "         [0., 0.]]]], dtype=float32)>"
            ]
          },
          "metadata": {},
          "execution_count": 51
        }
      ]
    },
    {
      "cell_type": "code",
      "metadata": {
        "colab": {
          "base_uri": "https://localhost:8080/"
        },
        "id": "0Nzr5KqueR0U",
        "outputId": "aa8c47a0-9c5d-40af-bc79-975ef45416e4"
      },
      "source": [
        "#create a rank 2 tensor\n",
        "\n",
        "rank_2_tensor = tf.constant([[1,2],[3,4]])\n",
        "\n",
        "rank_2_tensor"
      ],
      "execution_count": 52,
      "outputs": [
        {
          "output_type": "execute_result",
          "data": {
            "text/plain": [
              "<tf.Tensor: shape=(2, 2), dtype=int32, numpy=\n",
              "array([[1, 2],\n",
              "       [3, 4]], dtype=int32)>"
            ]
          },
          "metadata": {},
          "execution_count": 52
        }
      ]
    },
    {
      "cell_type": "code",
      "metadata": {
        "colab": {
          "base_uri": "https://localhost:8080/"
        },
        "id": "xPIcRcnTgdbk",
        "outputId": "6cb2f9b6-a8e9-4ab3-a8ef-4c81226ff3ca"
      },
      "source": [
        "#making a rank 2 tensor into a rank 3 tensor\n",
        "\n",
        "rank_3_tensor = rank_2_tensor[...,tf.newaxis] # inserting an another axis\n",
        "rank_3_tensor"
      ],
      "execution_count": 54,
      "outputs": [
        {
          "output_type": "execute_result",
          "data": {
            "text/plain": [
              "<tf.Tensor: shape=(2, 2, 1), dtype=int32, numpy=\n",
              "array([[[1],\n",
              "        [2]],\n",
              "\n",
              "       [[3],\n",
              "        [4]]], dtype=int32)>"
            ]
          },
          "metadata": {},
          "execution_count": 54
        }
      ]
    },
    {
      "cell_type": "code",
      "metadata": {
        "colab": {
          "base_uri": "https://localhost:8080/"
        },
        "id": "6lyonBuZgz2k",
        "outputId": "9bdc029b-debf-4bec-de9b-c98b22867f94"
      },
      "source": [
        "#another way\n",
        "\n",
        "tf.expand_dims(rank_2_tensor,axis =-1) # -1 for last axis"
      ],
      "execution_count": 55,
      "outputs": [
        {
          "output_type": "execute_result",
          "data": {
            "text/plain": [
              "<tf.Tensor: shape=(2, 2, 1), dtype=int32, numpy=\n",
              "array([[[1],\n",
              "        [2]],\n",
              "\n",
              "       [[3],\n",
              "        [4]]], dtype=int32)>"
            ]
          },
          "metadata": {},
          "execution_count": 55
        }
      ]
    },
    {
      "cell_type": "markdown",
      "metadata": {
        "id": "pe95d4gOiXsU"
      },
      "source": [
        "# Manupulating Tensors"
      ]
    }
  ]
}